{
 "cells": [
  {
   "cell_type": "code",
   "execution_count": 62,
   "metadata": {},
   "outputs": [],
   "source": [
    "import pyspark\n",
    "from pyspark.sql import SparkSession\n"
   ]
  },
  {
   "cell_type": "code",
   "execution_count": 63,
   "metadata": {},
   "outputs": [],
   "source": [
    "spark = SparkSession.builder.appName(\"testiLocal\").getOrCreate()"
   ]
  },
  {
   "cell_type": "code",
   "execution_count": 64,
   "metadata": {},
   "outputs": [
    {
     "data": {
      "text/html": [
       "\n",
       "            <div>\n",
       "                <p><b>SparkSession - in-memory</b></p>\n",
       "                \n",
       "        <div>\n",
       "            <p><b>SparkContext</b></p>\n",
       "\n",
       "            <p><a href=\"http://DESKTOP-P4UPB2O:4040\">Spark UI</a></p>\n",
       "\n",
       "            <dl>\n",
       "              <dt>Version</dt>\n",
       "                <dd><code>v3.4.0</code></dd>\n",
       "              <dt>Master</dt>\n",
       "                <dd><code>local[*]</code></dd>\n",
       "              <dt>AppName</dt>\n",
       "                <dd><code>testiLocal</code></dd>\n",
       "            </dl>\n",
       "        </div>\n",
       "        \n",
       "            </div>\n",
       "        "
      ],
      "text/plain": [
       "<pyspark.sql.session.SparkSession at 0x1e568c11420>"
      ]
     },
     "execution_count": 64,
     "metadata": {},
     "output_type": "execute_result"
    }
   ],
   "source": [
    "spark"
   ]
  },
  {
   "cell_type": "code",
   "execution_count": 65,
   "metadata": {},
   "outputs": [],
   "source": [
    "df = spark.read.csv(\"combined.csv\", header=True, inferSchema=True)"
   ]
  },
  {
   "cell_type": "code",
   "execution_count": 66,
   "metadata": {},
   "outputs": [
    {
     "name": "stdout",
     "output_type": "stream",
     "text": [
      "+----------+------------+-------------+-----+---------+-----------+--------+---------+---------------+--------------------+---------+------------------+------------+\n",
      "|aikatyyppi|kuukausi_nro|vuosikuukausi|vuosi|kunta_nro| kunta_nimi|ikaryhma|sukupuoli|          etuus|      korvausperuste|saaja_lkm|korvattu_paiva_lkm|maksettu_eur|\n",
      "+----------+------------+-------------+-----+---------+-----------+--------+---------+---------------+--------------------+---------+------------------+------------+\n",
      "|  Kuukausi|          12|       201812| 2018|      171|   Joroinen|   30-34|   Nainen|Työmarkkinatuki|Työllistymistä ed...|        4|                75|     3003.42|\n",
      "|  Kuukausi|          12|       201812| 2018|      167|    Joensuu|   30-34|   Nainen|Työmarkkinatuki|Työllistymistä ed...|      116|              2486|   104111.78|\n",
      "|  Kuukausi|          12|       201812| 2018|      165|  Janakkala|   30-34|   Nainen|Työmarkkinatuki|Työllistymistä ed...|       12|               248|    10695.26|\n",
      "|  Kuukausi|          12|       201812| 2018|      153|     Imatra|   30-34|   Nainen|Työmarkkinatuki|Työllistymistä ed...|       41|               830|    34623.11|\n",
      "|  Kuukausi|          12|       201812| 2018|      146|  Ilomantsi|   30-34|   Nainen|Työmarkkinatuki|Työllistymistä ed...|        4|                80|      3381.8|\n",
      "|  Kuukausi|          12|       201812| 2018|      145|   Ilmajoki|   30-34|   Nainen|Työmarkkinatuki|Työllistymistä ed...|        7|               163|     8049.66|\n",
      "|  Kuukausi|          12|       201812| 2018|      142|      Iitti|   30-34|   Nainen|Työmarkkinatuki|Työllistymistä ed...|        5|                92|     4050.36|\n",
      "|  Kuukausi|          12|       201812| 2018|      140|    Iisalmi|   30-34|   Nainen|Työmarkkinatuki|Työllistymistä ed...|       17|               385|    17070.08|\n",
      "|  Kuukausi|          12|       201812| 2018|      139|         Ii|   30-34|   Nainen|Työmarkkinatuki|Työllistymistä ed...|        6|               128|     5223.92|\n",
      "|  Kuukausi|          12|       201812| 2018|      111|    Heinola|   30-34|   Nainen|Työmarkkinatuki|Työllistymistä ed...|       18|               317|    12749.78|\n",
      "|  Kuukausi|          12|       201812| 2018|      109|Hämeenlinna|   30-34|   Nainen|Työmarkkinatuki|Työllistymistä ed...|       84|              1705|    74298.48|\n",
      "|  Kuukausi|          12|       201812| 2018|      108| Hämeenkyrö|   30-34|   Nainen|Työmarkkinatuki|Työllistymistä ed...|        9|               159|     5848.26|\n",
      "|  Kuukausi|          12|       201812| 2018|      106|   Hyvinkää|   30-34|   Nainen|Työmarkkinatuki|Työllistymistä ed...|       64|              1399|     61952.5|\n",
      "|  Kuukausi|          12|       201812| 2018|      102|  Huittinen|   30-34|   Nainen|Työmarkkinatuki|Työllistymistä ed...|        9|               182|     7361.57|\n",
      "|  Kuukausi|          12|       201812| 2018|       98|    Hollola|   30-34|   Nainen|Työmarkkinatuki|Työllistymistä ed...|       13|               249|    11022.62|\n",
      "|  Kuukausi|          12|       201812| 2018|       92|     Vantaa|   30-34|   Nainen|Työmarkkinatuki|Työllistymistä ed...|      381|              8148|   356810.45|\n",
      "|  Kuukausi|          12|       201812| 2018|       91|   Helsinki|   30-34|   Nainen|Työmarkkinatuki|Työllistymistä ed...|      838|             17641|   766061.06|\n",
      "|  Kuukausi|          12|       201812| 2018|       86|  Hausjärvi|   30-34|   Nainen|Työmarkkinatuki|Työllistymistä ed...|        9|               137|     6330.91|\n",
      "|  Kuukausi|          12|       201812| 2018|       79| Harjavalta|   30-34|   Nainen|Työmarkkinatuki|Työllistymistä ed...|        8|               187|      8068.4|\n",
      "|  Kuukausi|          12|       201812| 2018|       78|      Hanko|   30-34|   Nainen|Työmarkkinatuki|Työllistymistä ed...|        7|               147|      6166.4|\n",
      "+----------+------------+-------------+-----+---------+-----------+--------+---------+---------------+--------------------+---------+------------------+------------+\n",
      "only showing top 20 rows\n",
      "\n"
     ]
    }
   ],
   "source": [
    "df.show()"
   ]
  },
  {
   "cell_type": "code",
   "execution_count": 67,
   "metadata": {},
   "outputs": [
    {
     "data": {
      "text/plain": [
       "DataFrame[aikatyyppi: string, vuosikuukausi: int, vuosi: int, kunta_nro: int, kunta_nimi: string, ikaryhma: string, sukupuoli: string, etuus: string, korvausperuste: string, saaja_lkm: int, korvattu_paiva_lkm: int, maksettu_eur: double]"
      ]
     },
     "execution_count": 67,
     "metadata": {},
     "output_type": "execute_result"
    }
   ],
   "source": [
    "df.drop((df[\"kuukausi_nro\"]))"
   ]
  },
  {
   "cell_type": "code",
   "execution_count": 68,
   "metadata": {},
   "outputs": [
    {
     "data": {
      "text/plain": [
       "DataFrame[aikatyyppi: string, kuukausi_nro: int, vuosikuukausi: int, vuosi: int, kunta_nro: int, kunta_nimi: string, ikaryhma: string, sukupuoli: string, etuus: string, korvausperuste: string, saaja_lkm: int, korvattu_paiva_lkm: int, maksettu_eur: double]"
      ]
     },
     "execution_count": 68,
     "metadata": {},
     "output_type": "execute_result"
    }
   ],
   "source": [
    "df"
   ]
  },
  {
   "cell_type": "code",
   "execution_count": 69,
   "metadata": {},
   "outputs": [
    {
     "name": "stdout",
     "output_type": "stream",
     "text": [
      "+----------+------------+-------------+-----+---------+-----------+--------+---------+---------------+--------------------+---------+------------------+------------+\n",
      "|aikatyyppi|kuukausi_nro|vuosikuukausi|vuosi|kunta_nro| kunta_nimi|ikaryhma|sukupuoli|          etuus|      korvausperuste|saaja_lkm|korvattu_paiva_lkm|maksettu_eur|\n",
      "+----------+------------+-------------+-----+---------+-----------+--------+---------+---------------+--------------------+---------+------------------+------------+\n",
      "|  Kuukausi|          12|       201812| 2018|      171|   Joroinen|   30-34|   Nainen|Työmarkkinatuki|Työllistymistä ed...|        4|                75|     3003.42|\n",
      "|  Kuukausi|          12|       201812| 2018|      167|    Joensuu|   30-34|   Nainen|Työmarkkinatuki|Työllistymistä ed...|      116|              2486|   104111.78|\n",
      "|  Kuukausi|          12|       201812| 2018|      165|  Janakkala|   30-34|   Nainen|Työmarkkinatuki|Työllistymistä ed...|       12|               248|    10695.26|\n",
      "|  Kuukausi|          12|       201812| 2018|      153|     Imatra|   30-34|   Nainen|Työmarkkinatuki|Työllistymistä ed...|       41|               830|    34623.11|\n",
      "|  Kuukausi|          12|       201812| 2018|      146|  Ilomantsi|   30-34|   Nainen|Työmarkkinatuki|Työllistymistä ed...|        4|                80|      3381.8|\n",
      "|  Kuukausi|          12|       201812| 2018|      145|   Ilmajoki|   30-34|   Nainen|Työmarkkinatuki|Työllistymistä ed...|        7|               163|     8049.66|\n",
      "|  Kuukausi|          12|       201812| 2018|      142|      Iitti|   30-34|   Nainen|Työmarkkinatuki|Työllistymistä ed...|        5|                92|     4050.36|\n",
      "|  Kuukausi|          12|       201812| 2018|      140|    Iisalmi|   30-34|   Nainen|Työmarkkinatuki|Työllistymistä ed...|       17|               385|    17070.08|\n",
      "|  Kuukausi|          12|       201812| 2018|      139|         Ii|   30-34|   Nainen|Työmarkkinatuki|Työllistymistä ed...|        6|               128|     5223.92|\n",
      "|  Kuukausi|          12|       201812| 2018|      111|    Heinola|   30-34|   Nainen|Työmarkkinatuki|Työllistymistä ed...|       18|               317|    12749.78|\n",
      "|  Kuukausi|          12|       201812| 2018|      109|Hämeenlinna|   30-34|   Nainen|Työmarkkinatuki|Työllistymistä ed...|       84|              1705|    74298.48|\n",
      "|  Kuukausi|          12|       201812| 2018|      108| Hämeenkyrö|   30-34|   Nainen|Työmarkkinatuki|Työllistymistä ed...|        9|               159|     5848.26|\n",
      "|  Kuukausi|          12|       201812| 2018|      106|   Hyvinkää|   30-34|   Nainen|Työmarkkinatuki|Työllistymistä ed...|       64|              1399|     61952.5|\n",
      "|  Kuukausi|          12|       201812| 2018|      102|  Huittinen|   30-34|   Nainen|Työmarkkinatuki|Työllistymistä ed...|        9|               182|     7361.57|\n",
      "|  Kuukausi|          12|       201812| 2018|       98|    Hollola|   30-34|   Nainen|Työmarkkinatuki|Työllistymistä ed...|       13|               249|    11022.62|\n",
      "|  Kuukausi|          12|       201812| 2018|       92|     Vantaa|   30-34|   Nainen|Työmarkkinatuki|Työllistymistä ed...|      381|              8148|   356810.45|\n",
      "|  Kuukausi|          12|       201812| 2018|       91|   Helsinki|   30-34|   Nainen|Työmarkkinatuki|Työllistymistä ed...|      838|             17641|   766061.06|\n",
      "|  Kuukausi|          12|       201812| 2018|       86|  Hausjärvi|   30-34|   Nainen|Työmarkkinatuki|Työllistymistä ed...|        9|               137|     6330.91|\n",
      "|  Kuukausi|          12|       201812| 2018|       79| Harjavalta|   30-34|   Nainen|Työmarkkinatuki|Työllistymistä ed...|        8|               187|      8068.4|\n",
      "|  Kuukausi|          12|       201812| 2018|       78|      Hanko|   30-34|   Nainen|Työmarkkinatuki|Työllistymistä ed...|        7|               147|      6166.4|\n",
      "+----------+------------+-------------+-----+---------+-----------+--------+---------+---------------+--------------------+---------+------------------+------------+\n",
      "only showing top 20 rows\n",
      "\n"
     ]
    }
   ],
   "source": [
    "df.show()"
   ]
  },
  {
   "cell_type": "code",
   "execution_count": 70,
   "metadata": {},
   "outputs": [
    {
     "name": "stdout",
     "output_type": "stream",
     "text": [
      "root\n",
      " |-- aikatyyppi: string (nullable = true)\n",
      " |-- vuosikuukausi: integer (nullable = true)\n",
      " |-- kunta_nimi: string (nullable = true)\n",
      " |-- ikaryhma: string (nullable = true)\n",
      " |-- sukupuoli: string (nullable = true)\n",
      " |-- etuus: string (nullable = true)\n",
      " |-- korvausperuste: string (nullable = true)\n",
      " |-- saaja_lkm: integer (nullable = true)\n",
      " |-- korvattu_paiva_lkm: integer (nullable = true)\n",
      " |-- maksettu_eur: double (nullable = true)\n",
      "\n"
     ]
    }
   ],
   "source": [
    "df.drop(\"kuukausi_nro\", \"vuosi\", \"kunta_nro\").printSchema()"
   ]
  },
  {
   "cell_type": "code",
   "execution_count": 71,
   "metadata": {},
   "outputs": [
    {
     "name": "stdout",
     "output_type": "stream",
     "text": [
      "+----------+------------+-------------+-----+---------+-----------+--------+---------+---------------+--------------------+---------+------------------+------------+\n",
      "|aikatyyppi|kuukausi_nro|vuosikuukausi|vuosi|kunta_nro| kunta_nimi|ikaryhma|sukupuoli|          etuus|      korvausperuste|saaja_lkm|korvattu_paiva_lkm|maksettu_eur|\n",
      "+----------+------------+-------------+-----+---------+-----------+--------+---------+---------------+--------------------+---------+------------------+------------+\n",
      "|  Kuukausi|          12|       201812| 2018|      171|   Joroinen|   30-34|   Nainen|Työmarkkinatuki|Työllistymistä ed...|        4|                75|     3003.42|\n",
      "|  Kuukausi|          12|       201812| 2018|      167|    Joensuu|   30-34|   Nainen|Työmarkkinatuki|Työllistymistä ed...|      116|              2486|   104111.78|\n",
      "|  Kuukausi|          12|       201812| 2018|      165|  Janakkala|   30-34|   Nainen|Työmarkkinatuki|Työllistymistä ed...|       12|               248|    10695.26|\n",
      "|  Kuukausi|          12|       201812| 2018|      153|     Imatra|   30-34|   Nainen|Työmarkkinatuki|Työllistymistä ed...|       41|               830|    34623.11|\n",
      "|  Kuukausi|          12|       201812| 2018|      146|  Ilomantsi|   30-34|   Nainen|Työmarkkinatuki|Työllistymistä ed...|        4|                80|      3381.8|\n",
      "|  Kuukausi|          12|       201812| 2018|      145|   Ilmajoki|   30-34|   Nainen|Työmarkkinatuki|Työllistymistä ed...|        7|               163|     8049.66|\n",
      "|  Kuukausi|          12|       201812| 2018|      142|      Iitti|   30-34|   Nainen|Työmarkkinatuki|Työllistymistä ed...|        5|                92|     4050.36|\n",
      "|  Kuukausi|          12|       201812| 2018|      140|    Iisalmi|   30-34|   Nainen|Työmarkkinatuki|Työllistymistä ed...|       17|               385|    17070.08|\n",
      "|  Kuukausi|          12|       201812| 2018|      139|         Ii|   30-34|   Nainen|Työmarkkinatuki|Työllistymistä ed...|        6|               128|     5223.92|\n",
      "|  Kuukausi|          12|       201812| 2018|      111|    Heinola|   30-34|   Nainen|Työmarkkinatuki|Työllistymistä ed...|       18|               317|    12749.78|\n",
      "|  Kuukausi|          12|       201812| 2018|      109|Hämeenlinna|   30-34|   Nainen|Työmarkkinatuki|Työllistymistä ed...|       84|              1705|    74298.48|\n",
      "|  Kuukausi|          12|       201812| 2018|      108| Hämeenkyrö|   30-34|   Nainen|Työmarkkinatuki|Työllistymistä ed...|        9|               159|     5848.26|\n",
      "|  Kuukausi|          12|       201812| 2018|      106|   Hyvinkää|   30-34|   Nainen|Työmarkkinatuki|Työllistymistä ed...|       64|              1399|     61952.5|\n",
      "|  Kuukausi|          12|       201812| 2018|      102|  Huittinen|   30-34|   Nainen|Työmarkkinatuki|Työllistymistä ed...|        9|               182|     7361.57|\n",
      "|  Kuukausi|          12|       201812| 2018|       98|    Hollola|   30-34|   Nainen|Työmarkkinatuki|Työllistymistä ed...|       13|               249|    11022.62|\n",
      "|  Kuukausi|          12|       201812| 2018|       92|     Vantaa|   30-34|   Nainen|Työmarkkinatuki|Työllistymistä ed...|      381|              8148|   356810.45|\n",
      "|  Kuukausi|          12|       201812| 2018|       91|   Helsinki|   30-34|   Nainen|Työmarkkinatuki|Työllistymistä ed...|      838|             17641|   766061.06|\n",
      "|  Kuukausi|          12|       201812| 2018|       86|  Hausjärvi|   30-34|   Nainen|Työmarkkinatuki|Työllistymistä ed...|        9|               137|     6330.91|\n",
      "|  Kuukausi|          12|       201812| 2018|       79| Harjavalta|   30-34|   Nainen|Työmarkkinatuki|Työllistymistä ed...|        8|               187|      8068.4|\n",
      "|  Kuukausi|          12|       201812| 2018|       78|      Hanko|   30-34|   Nainen|Työmarkkinatuki|Työllistymistä ed...|        7|               147|      6166.4|\n",
      "+----------+------------+-------------+-----+---------+-----------+--------+---------+---------------+--------------------+---------+------------------+------------+\n",
      "only showing top 20 rows\n",
      "\n"
     ]
    }
   ],
   "source": [
    "df.show()"
   ]
  },
  {
   "cell_type": "code",
   "execution_count": 72,
   "metadata": {},
   "outputs": [],
   "source": [
    "df2 = df.drop(\"kuukausi_nro\", \"vuosi\", \"kunta_nro\")"
   ]
  },
  {
   "cell_type": "code",
   "execution_count": 73,
   "metadata": {},
   "outputs": [
    {
     "name": "stdout",
     "output_type": "stream",
     "text": [
      "+----------+-------------+-----------+--------+---------+---------------+--------------------+---------+------------------+------------+\n",
      "|aikatyyppi|vuosikuukausi| kunta_nimi|ikaryhma|sukupuoli|          etuus|      korvausperuste|saaja_lkm|korvattu_paiva_lkm|maksettu_eur|\n",
      "+----------+-------------+-----------+--------+---------+---------------+--------------------+---------+------------------+------------+\n",
      "|  Kuukausi|       201812|   Joroinen|   30-34|   Nainen|Työmarkkinatuki|Työllistymistä ed...|        4|                75|     3003.42|\n",
      "|  Kuukausi|       201812|    Joensuu|   30-34|   Nainen|Työmarkkinatuki|Työllistymistä ed...|      116|              2486|   104111.78|\n",
      "|  Kuukausi|       201812|  Janakkala|   30-34|   Nainen|Työmarkkinatuki|Työllistymistä ed...|       12|               248|    10695.26|\n",
      "|  Kuukausi|       201812|     Imatra|   30-34|   Nainen|Työmarkkinatuki|Työllistymistä ed...|       41|               830|    34623.11|\n",
      "|  Kuukausi|       201812|  Ilomantsi|   30-34|   Nainen|Työmarkkinatuki|Työllistymistä ed...|        4|                80|      3381.8|\n",
      "|  Kuukausi|       201812|   Ilmajoki|   30-34|   Nainen|Työmarkkinatuki|Työllistymistä ed...|        7|               163|     8049.66|\n",
      "|  Kuukausi|       201812|      Iitti|   30-34|   Nainen|Työmarkkinatuki|Työllistymistä ed...|        5|                92|     4050.36|\n",
      "|  Kuukausi|       201812|    Iisalmi|   30-34|   Nainen|Työmarkkinatuki|Työllistymistä ed...|       17|               385|    17070.08|\n",
      "|  Kuukausi|       201812|         Ii|   30-34|   Nainen|Työmarkkinatuki|Työllistymistä ed...|        6|               128|     5223.92|\n",
      "|  Kuukausi|       201812|    Heinola|   30-34|   Nainen|Työmarkkinatuki|Työllistymistä ed...|       18|               317|    12749.78|\n",
      "|  Kuukausi|       201812|Hämeenlinna|   30-34|   Nainen|Työmarkkinatuki|Työllistymistä ed...|       84|              1705|    74298.48|\n",
      "|  Kuukausi|       201812| Hämeenkyrö|   30-34|   Nainen|Työmarkkinatuki|Työllistymistä ed...|        9|               159|     5848.26|\n",
      "|  Kuukausi|       201812|   Hyvinkää|   30-34|   Nainen|Työmarkkinatuki|Työllistymistä ed...|       64|              1399|     61952.5|\n",
      "|  Kuukausi|       201812|  Huittinen|   30-34|   Nainen|Työmarkkinatuki|Työllistymistä ed...|        9|               182|     7361.57|\n",
      "|  Kuukausi|       201812|    Hollola|   30-34|   Nainen|Työmarkkinatuki|Työllistymistä ed...|       13|               249|    11022.62|\n",
      "|  Kuukausi|       201812|     Vantaa|   30-34|   Nainen|Työmarkkinatuki|Työllistymistä ed...|      381|              8148|   356810.45|\n",
      "|  Kuukausi|       201812|   Helsinki|   30-34|   Nainen|Työmarkkinatuki|Työllistymistä ed...|      838|             17641|   766061.06|\n",
      "|  Kuukausi|       201812|  Hausjärvi|   30-34|   Nainen|Työmarkkinatuki|Työllistymistä ed...|        9|               137|     6330.91|\n",
      "|  Kuukausi|       201812| Harjavalta|   30-34|   Nainen|Työmarkkinatuki|Työllistymistä ed...|        8|               187|      8068.4|\n",
      "|  Kuukausi|       201812|      Hanko|   30-34|   Nainen|Työmarkkinatuki|Työllistymistä ed...|        7|               147|      6166.4|\n",
      "+----------+-------------+-----------+--------+---------+---------------+--------------------+---------+------------------+------------+\n",
      "only showing top 20 rows\n",
      "\n"
     ]
    }
   ],
   "source": [
    "df2.show()"
   ]
  },
  {
   "cell_type": "code",
   "execution_count": 74,
   "metadata": {},
   "outputs": [
    {
     "name": "stderr",
     "output_type": "stream",
     "text": [
      "C:\\Users\\timo-\\AppData\\Local\\Temp\\ipykernel_8136\\2966804904.py:3: MatplotlibDeprecationWarning: The seaborn styles shipped by Matplotlib are deprecated since 3.6, as they no longer correspond to the styles shipped by seaborn. However, they will remain available as 'seaborn-v0_8-<style>'. Alternatively, directly use the seaborn API instead.\n",
      "  plt.style.use('seaborn-white')\n"
     ]
    }
   ],
   "source": [
    "import pandas as pd\n",
    "import matplotlib.pyplot as plt\n",
    "plt.style.use('seaborn-white')"
   ]
  },
  {
   "cell_type": "code",
   "execution_count": 75,
   "metadata": {},
   "outputs": [],
   "source": [
    "avg_maksu_df = df2.withColumn(\"avg_maksettu\", df2[\"maksettu_eur\"] / df2[\"saaja_lkm\"])"
   ]
  },
  {
   "cell_type": "code",
   "execution_count": 76,
   "metadata": {},
   "outputs": [
    {
     "name": "stdout",
     "output_type": "stream",
     "text": [
      "+----------+-------------+-----------+--------+---------+---------------+--------------------+---------+------------------+------------+------------------+\n",
      "|aikatyyppi|vuosikuukausi| kunta_nimi|ikaryhma|sukupuoli|          etuus|      korvausperuste|saaja_lkm|korvattu_paiva_lkm|maksettu_eur|      avg_maksettu|\n",
      "+----------+-------------+-----------+--------+---------+---------------+--------------------+---------+------------------+------------+------------------+\n",
      "|  Kuukausi|       201812|   Joroinen|   30-34|   Nainen|Työmarkkinatuki|Työllistymistä ed...|        4|                75|     3003.42|           750.855|\n",
      "|  Kuukausi|       201812|    Joensuu|   30-34|   Nainen|Työmarkkinatuki|Työllistymistä ed...|      116|              2486|   104111.78| 897.5153448275862|\n",
      "|  Kuukausi|       201812|  Janakkala|   30-34|   Nainen|Työmarkkinatuki|Työllistymistä ed...|       12|               248|    10695.26| 891.2716666666666|\n",
      "|  Kuukausi|       201812|     Imatra|   30-34|   Nainen|Työmarkkinatuki|Työllistymistä ed...|       41|               830|    34623.11| 844.4660975609756|\n",
      "|  Kuukausi|       201812|  Ilomantsi|   30-34|   Nainen|Työmarkkinatuki|Työllistymistä ed...|        4|                80|      3381.8|            845.45|\n",
      "|  Kuukausi|       201812|   Ilmajoki|   30-34|   Nainen|Työmarkkinatuki|Työllistymistä ed...|        7|               163|     8049.66|1149.9514285714286|\n",
      "|  Kuukausi|       201812|      Iitti|   30-34|   Nainen|Työmarkkinatuki|Työllistymistä ed...|        5|                92|     4050.36|           810.072|\n",
      "|  Kuukausi|       201812|    Iisalmi|   30-34|   Nainen|Työmarkkinatuki|Työllistymistä ed...|       17|               385|    17070.08|1004.1223529411766|\n",
      "|  Kuukausi|       201812|         Ii|   30-34|   Nainen|Työmarkkinatuki|Työllistymistä ed...|        6|               128|     5223.92| 870.6533333333333|\n",
      "|  Kuukausi|       201812|    Heinola|   30-34|   Nainen|Työmarkkinatuki|Työllistymistä ed...|       18|               317|    12749.78| 708.3211111111111|\n",
      "|  Kuukausi|       201812|Hämeenlinna|   30-34|   Nainen|Työmarkkinatuki|Työllistymistä ed...|       84|              1705|    74298.48| 884.5057142857142|\n",
      "|  Kuukausi|       201812| Hämeenkyrö|   30-34|   Nainen|Työmarkkinatuki|Työllistymistä ed...|        9|               159|     5848.26| 649.8066666666667|\n",
      "|  Kuukausi|       201812|   Hyvinkää|   30-34|   Nainen|Työmarkkinatuki|Työllistymistä ed...|       64|              1399|     61952.5|       968.0078125|\n",
      "|  Kuukausi|       201812|  Huittinen|   30-34|   Nainen|Työmarkkinatuki|Työllistymistä ed...|        9|               182|     7361.57| 817.9522222222222|\n",
      "|  Kuukausi|       201812|    Hollola|   30-34|   Nainen|Työmarkkinatuki|Työllistymistä ed...|       13|               249|    11022.62| 847.8938461538462|\n",
      "|  Kuukausi|       201812|     Vantaa|   30-34|   Nainen|Työmarkkinatuki|Työllistymistä ed...|      381|              8148|   356810.45| 936.5103674540683|\n",
      "|  Kuukausi|       201812|   Helsinki|   30-34|   Nainen|Työmarkkinatuki|Työllistymistä ed...|      838|             17641|   766061.06| 914.1540095465394|\n",
      "|  Kuukausi|       201812|  Hausjärvi|   30-34|   Nainen|Työmarkkinatuki|Työllistymistä ed...|        9|               137|     6330.91| 703.4344444444445|\n",
      "|  Kuukausi|       201812| Harjavalta|   30-34|   Nainen|Työmarkkinatuki|Työllistymistä ed...|        8|               187|      8068.4|           1008.55|\n",
      "|  Kuukausi|       201812|      Hanko|   30-34|   Nainen|Työmarkkinatuki|Työllistymistä ed...|        7|               147|      6166.4| 880.9142857142857|\n",
      "+----------+-------------+-----------+--------+---------+---------------+--------------------+---------+------------------+------------+------------------+\n",
      "only showing top 20 rows\n",
      "\n"
     ]
    }
   ],
   "source": [
    "avg_maksu_df.show()"
   ]
  },
  {
   "cell_type": "code",
   "execution_count": 77,
   "metadata": {},
   "outputs": [],
   "source": [
    "Merge_df = spark.read.csv(\"combined.csv\", header=True, inferSchema=True)"
   ]
  },
  {
   "cell_type": "code",
   "execution_count": null,
   "metadata": {},
   "outputs": [],
   "source": []
  },
  {
   "cell_type": "code",
   "execution_count": 78,
   "metadata": {},
   "outputs": [
    {
     "name": "stdout",
     "output_type": "stream",
     "text": [
      "+----------+------------+-------------+-----+---------+----------+--------+---------+--------+----------------+---------+------------------+------------+\n",
      "|aikatyyppi|kuukausi_nro|vuosikuukausi|vuosi|kunta_nro|kunta_nimi|ikaryhma|sukupuoli|   etuus|  korvausperuste|saaja_lkm|korvattu_paiva_lkm|maksettu_eur|\n",
      "+----------+------------+-------------+-----+---------+----------+--------+---------+--------+----------------+---------+------------------+------------+\n",
      "|  Kuukausi|           6|       202006| 2020|       91|  Helsinki|   25-29|   Nainen|Yhteensä|        Yhteensä|     3760|             81953|   2777041.9|\n",
      "|  Kuukausi|           6|       202006| 2020|       91|  Helsinki|   30-34|     Mies|Yhteensä|        Yhteensä|     3550|             80155|   2785132.2|\n",
      "|  Kuukausi|           7|       202007| 2020|       91|  Helsinki|   25-29|   Nainen|Yhteensä|        Yhteensä|     3491|             78411|  2663961.92|\n",
      "|  Kuukausi|           5|       202005| 2020|       91|  Helsinki|   25-29|   Nainen|Yhteensä|        Yhteensä|     3473|             76013|  2552239.47|\n",
      "|  Kuukausi|           6|       202006| 2020|       91|  Helsinki|   25-29|     Mies|Yhteensä|        Yhteensä|     3426|             76917|  2589983.83|\n",
      "|  Kuukausi|           7|       202007| 2020|       91|  Helsinki|   30-34|     Mies|Yhteensä|        Yhteensä|     3342|             78036|  2708343.85|\n",
      "|  Kuukausi|           5|       202005| 2020|       91|  Helsinki|   30-34|     Mies|Yhteensä|        Yhteensä|     3332|             76299|  2636470.96|\n",
      "|  Kuukausi|           7|       202007| 2020|       91|  Helsinki|   25-29|     Mies|Yhteensä|        Yhteensä|     3221|             74928|  2508442.55|\n",
      "|  Kuukausi|           6|       202006| 2020|       91|  Helsinki|   30-34|   Nainen|Yhteensä|        Yhteensä|     3200|             71339|  2551651.71|\n",
      "|  Kuukausi|           6|       202006| 2020|       91|  Helsinki|   35-39|     Mies|Yhteensä|        Yhteensä|     3188|             74169|  2634337.89|\n",
      "|  Kuukausi|           6|       202006| 2020|       91|  Helsinki|   25-29|   Nainen|Yhteensä|Työttömyysajalta|     3135|             67342|  2156084.06|\n",
      "|  Kuukausi|           5|       202005| 2020|       91|  Helsinki|   25-29|     Mies|Yhteensä|        Yhteensä|     3111|             68790|  2318687.99|\n",
      "|  Kuukausi|           7|       202007| 2020|       91|  Helsinki|   30-34|   Nainen|Yhteensä|        Yhteensä|     3097|             73489|  2647402.92|\n",
      "|  Kuukausi|           7|       202007| 2020|       91|  Helsinki|   35-39|     Mies|Yhteensä|        Yhteensä|     3054|             73448|  2609185.76|\n",
      "|  Kuukausi|           5|       202005| 2020|       91|  Helsinki|   35-39|     Mies|Yhteensä|        Yhteensä|     3015|             70862|  2511122.04|\n",
      "|  Kuukausi|           6|       202006| 2020|       91|  Helsinki|   30-34|     Mies|Yhteensä|Työttömyysajalta|     2989|             66812|  2247037.33|\n",
      "|  Kuukausi|           5|       202005| 2020|       91|  Helsinki|   30-34|   Nainen|Yhteensä|        Yhteensä|     2982|             66972|  2405721.48|\n",
      "|  Kuukausi|           8|       202008| 2020|       91|  Helsinki|   30-34|     Mies|Yhteensä|        Yhteensä|     2980|             65263|  2256206.51|\n",
      "|  Kuukausi|           8|       202008| 2020|       91|  Helsinki|   25-29|   Nainen|Yhteensä|        Yhteensä|     2979|             62843|  2132272.17|\n",
      "|  Kuukausi|           7|       202007| 2020|       91|  Helsinki|   25-29|   Nainen|Yhteensä|Työttömyysajalta|     2912|             63337|  2054838.24|\n",
      "|  Kuukausi|           4|       202104| 2021|       91|  Helsinki|   30-34|     Mies|Yhteensä|        Yhteensä|     2880|             64244|  2274901.05|\n",
      "|  Kuukausi|           3|       202103| 2021|       91|  Helsinki|   30-34|     Mies|Yhteensä|        Yhteensä|     2869|             69364|  2436320.94|\n",
      "|  Kuukausi|           6|       202006| 2020|       91|  Helsinki|   25-29|     Mies|Yhteensä|Työttömyysajalta|     2864|             63985|  2063988.82|\n",
      "|  Kuukausi|           8|       202008| 2020|       91|  Helsinki|   25-29|     Mies|Yhteensä|        Yhteensä|     2858|             61850|  2062937.13|\n",
      "|  Kuukausi|           9|       202009| 2020|       91|  Helsinki|   30-34|     Mies|Yhteensä|        Yhteensä|     2845|             64959|  2294877.13|\n",
      "|  Kuukausi|           6|       202006| 2020|       91|  Helsinki|   35-39|   Nainen|Yhteensä|        Yhteensä|     2824|             63979|  2373007.68|\n",
      "|  Kuukausi|           3|       202103| 2021|       91|  Helsinki|   35-39|     Mies|Yhteensä|        Yhteensä|     2819|             68180|   2422118.3|\n",
      "|  Kuukausi|           7|       202007| 2020|       91|  Helsinki|   30-34|     Mies|Yhteensä|Työttömyysajalta|     2816|             64876|  2206424.66|\n",
      "|  Kuukausi|           4|       202104| 2021|       91|  Helsinki|   35-39|     Mies|Yhteensä|        Yhteensä|     2815|             63223|  2261589.69|\n",
      "|  Kuukausi|           5|       202105| 2021|       91|  Helsinki|   35-39|     Mies|Yhteensä|        Yhteensä|     2808|             61632|  2211777.58|\n",
      "|  Kuukausi|           8|       202008| 2020|       91|  Helsinki|   30-34|   Nainen|Yhteensä|        Yhteensä|     2804|             59593|   2144417.4|\n",
      "|  Kuukausi|           5|       202005| 2020|       91|  Helsinki|   25-29|   Nainen|Yhteensä|Työttömyysajalta|     2800|             60667|  1896025.43|\n",
      "|  Kuukausi|           7|       202007| 2020|       91|  Helsinki|   35-39|   Nainen|Yhteensä|        Yhteensä|     2780|             65571|   2448779.1|\n",
      "|  Kuukausi|           8|       202008| 2020|       91|  Helsinki|   35-39|     Mies|Yhteensä|        Yhteensä|     2776|             60333|  2130934.68|\n",
      "|  Kuukausi|           5|       202105| 2021|       91|  Helsinki|   30-34|     Mies|Yhteensä|        Yhteensä|     2768|             60033|  2127075.07|\n",
      "|  Kuukausi|          12|       202012| 2020|       91|  Helsinki|   30-34|     Mies|Yhteensä|        Yhteensä|     2764|             65942|  2327615.17|\n",
      "|  Kuukausi|           9|       202009| 2020|       91|  Helsinki|   25-29|   Nainen|Yhteensä|        Yhteensä|     2750|             60894|  2116948.99|\n",
      "|  Kuukausi|           6|       202006| 2020|       91|  Helsinki|   35-39|     Mies|Yhteensä|Työttömyysajalta|     2747|             63724|  2211105.22|\n",
      "|  Kuukausi|           9|       202009| 2020|       91|  Helsinki|   25-29|     Mies|Yhteensä|        Yhteensä|     2744|             61415|  2093335.29|\n",
      "|  Kuukausi|           7|       202007| 2020|       91|  Helsinki|   25-29|     Mies|Yhteensä|Työttömyysajalta|     2743|             62695|  2042788.28|\n",
      "|  Kuukausi|          10|       202010| 2020|       91|  Helsinki|   30-34|     Mies|Yhteensä|        Yhteensä|     2741|             61067|  2147544.97|\n",
      "|  Kuukausi|           5|       202005| 2020|       91|  Helsinki|   30-34|     Mies|Yhteensä|Työttömyysajalta|     2731|             62786|  2088883.69|\n",
      "|  Kuukausi|           5|       202005| 2020|       91|  Helsinki|   35-39|   Nainen|Yhteensä|        Yhteensä|     2727|             62424|  2294876.08|\n",
      "|  Kuukausi|           6|       202106| 2021|       91|  Helsinki|   30-34|     Mies|Yhteensä|        Yhteensä|     2724|             62999|   2200001.5|\n",
      "|  Kuukausi|           6|       202006| 2020|       91|  Helsinki|   40-44|     Mies|Yhteensä|        Yhteensä|     2723|             62400|  2263574.98|\n",
      "|  Kuukausi|           9|       202009| 2020|       91|  Helsinki|   35-39|     Mies|Yhteensä|        Yhteensä|     2721|             62828|  2262857.92|\n",
      "|  Kuukausi|           6|       202106| 2021|       91|  Helsinki|   35-39|     Mies|Yhteensä|        Yhteensä|     2699|             62046|  2243005.88|\n",
      "|  Kuukausi|           9|       202009| 2020|       91|  Helsinki|   30-34|   Nainen|Yhteensä|        Yhteensä|     2691|             60669|  2232651.23|\n",
      "|  Kuukausi|          10|       202010| 2020|       91|  Helsinki|   35-39|     Mies|Yhteensä|        Yhteensä|     2691|             60379|  2160889.63|\n",
      "|  Kuukausi|          12|       202012| 2020|       91|  Helsinki|   35-39|     Mies|Yhteensä|        Yhteensä|     2690|             63851|  2280067.47|\n",
      "|  Kuukausi|           1|       202101| 2021|       91|  Helsinki|   35-39|     Mies|Yhteensä|        Yhteensä|     2689|             58478|  2070652.53|\n",
      "|  Kuukausi|           1|       202101| 2021|       91|  Helsinki|   30-34|     Mies|Yhteensä|        Yhteensä|     2678|             57510|  2009071.23|\n",
      "|  Kuukausi|           2|       202102| 2021|       91|  Helsinki|   35-39|     Mies|Yhteensä|        Yhteensä|     2673|             57479|  2071156.53|\n",
      "|  Kuukausi|           7|       202007| 2020|       91|  Helsinki|   35-39|     Mies|Yhteensä|Työttömyysajalta|     2670|             63428|  2209764.58|\n",
      "|  Kuukausi|          11|       202011| 2020|       91|  Helsinki|   30-34|     Mies|Yhteensä|        Yhteensä|     2667|             57196|  2006918.11|\n",
      "|  Kuukausi|           2|       202102| 2021|       91|  Helsinki|   30-34|     Mies|Yhteensä|        Yhteensä|     2637|             56075|  1976042.37|\n",
      "|  Kuukausi|           3|       202103| 2021|       91|  Helsinki|   25-29|     Mies|Yhteensä|        Yhteensä|     2632|             62737|  2124659.24|\n",
      "|  Kuukausi|           3|       202103| 2021|       91|  Helsinki|   30-34|   Nainen|Yhteensä|        Yhteensä|     2622|             62247|  2320568.99|\n",
      "|  Kuukausi|           7|       202007| 2020|       91|  Helsinki|   40-44|     Mies|Yhteensä|        Yhteensä|     2617|             62025|  2241598.76|\n",
      "|  Kuukausi|          11|       202011| 2020|       91|  Helsinki|   35-39|     Mies|Yhteensä|        Yhteensä|     2615|             56900|   2052424.5|\n",
      "|  Kuukausi|          12|       202012| 2020|       91|  Helsinki|   30-34|   Nainen|Yhteensä|        Yhteensä|     2609|             62111|  2313169.35|\n",
      "|  Kuukausi|           7|       202107| 2021|       91|  Helsinki|   35-39|     Mies|Yhteensä|        Yhteensä|     2597|             58140|  2078151.63|\n",
      "|  Kuukausi|          10|       202010| 2020|       91|  Helsinki|   30-34|   Nainen|Yhteensä|        Yhteensä|     2589|             57849|  2155446.97|\n",
      "|  Kuukausi|           4|       202104| 2021|       91|  Helsinki|   25-29|     Mies|Yhteensä|        Yhteensä|     2588|             57105|  1967109.95|\n",
      "|  Kuukausi|           5|       202005| 2020|       91|  Helsinki|   40-44|     Mies|Yhteensä|        Yhteensä|     2581|             60459|  2187694.16|\n",
      "|  Kuukausi|           7|       202107| 2021|       91|  Helsinki|   30-34|     Mies|Yhteensä|        Yhteensä|     2565|             58138|  2031758.18|\n",
      "|  Kuukausi|           4|       202004| 2020|       91|  Helsinki|   30-34|     Mies|Yhteensä|        Yhteensä|     2565|             55373|  1977973.69|\n",
      "|  Kuukausi|           8|       202108| 2021|       91|  Helsinki|   35-39|     Mies|Yhteensä|        Yhteensä|     2562|             57912|   2048642.5|\n",
      "|  Kuukausi|          10|       202010| 2020|       91|  Helsinki|   25-29|     Mies|Yhteensä|        Yhteensä|     2558|             57393|  1938507.42|\n",
      "|  Kuukausi|          12|       202012| 2020|       91|  Helsinki|   25-29|     Mies|Yhteensä|        Yhteensä|     2553|             61047|  2086968.78|\n",
      "|  Kuukausi|           4|       202104| 2021|       91|  Helsinki|   30-34|   Nainen|Yhteensä|        Yhteensä|     2551|             56276|  2061018.17|\n",
      "|  Kuukausi|           8|       202108| 2021|       91|  Helsinki|   30-34|     Mies|Yhteensä|        Yhteensä|     2550|             57383|  1990857.31|\n",
      "|  Kuukausi|           8|       202008| 2020|       91|  Helsinki|   35-39|   Nainen|Yhteensä|        Yhteensä|     2547|             55472|  2055504.77|\n",
      "|  Kuukausi|           5|       202105| 2021|       91|  Helsinki|   25-29|     Mies|Yhteensä|        Yhteensä|     2545|             56870|  1958159.72|\n",
      "|  Kuukausi|           1|       202101| 2021|       91|  Helsinki|   25-29|     Mies|Yhteensä|        Yhteensä|     2542|             54152|  1824294.95|\n",
      "|  Kuukausi|           5|       202105| 2021|       91|  Helsinki|   30-34|   Nainen|Yhteensä|        Yhteensä|     2540|             55760|  2057006.91|\n",
      "|  Kuukausi|          10|       202010| 2020|       91|  Helsinki|   25-29|   Nainen|Yhteensä|        Yhteensä|     2538|             56054|  1953335.86|\n",
      "|  Kuukausi|           2|       202102| 2021|       91|  Helsinki|   25-29|     Mies|Yhteensä|        Yhteensä|     2537|             53346|  1815410.42|\n",
      "|  Kuukausi|           3|       202103| 2021|       91|  Helsinki|   25-29|   Nainen|Yhteensä|        Yhteensä|     2536|             59164|  2068340.32|\n",
      "|  Kuukausi|           1|       202101| 2021|       91|  Helsinki|   30-34|   Nainen|Yhteensä|        Yhteensä|     2526|             54598|  1966944.93|\n",
      "|  Kuukausi|           6|       202106| 2021|       91|  Helsinki|   30-34|   Nainen|Yhteensä|        Yhteensä|     2525|             57323|  2138906.69|\n",
      "|  Kuukausi|           5|       202005| 2020|       91|  Helsinki|   35-39|     Mies|Yhteensä|Työttömyysajalta|     2523|             59918|  2064043.19|\n",
      "|  Kuukausi|           9|       202109| 2021|       91|  Helsinki|   35-39|     Mies|Yhteensä|        Yhteensä|     2523|             59127|  2118725.12|\n",
      "|  Kuukausi|          11|       202011| 2020|       91|  Helsinki|   30-34|   Nainen|Yhteensä|        Yhteensä|     2513|             54221|  2014150.68|\n",
      "|  Kuukausi|          11|       202011| 2020|       91|  Helsinki|   25-29|     Mies|Yhteensä|        Yhteensä|     2511|             54046|  1837404.72|\n",
      "|  Kuukausi|           5|       202005| 2020|       91|  Helsinki|   25-29|     Mies|Yhteensä|Työttömyysajalta|     2510|             55316|  1771905.51|\n",
      "|  Kuukausi|           8|       202108| 2021|       91|  Helsinki|   30-34|   Nainen|Yhteensä|        Yhteensä|     2501|             56174|  2045488.39|\n",
      "|  Kuukausi|           6|       202006| 2020|       91|  Helsinki|   20-24|   Nainen|Yhteensä|        Yhteensä|     2499|             54192|  1714479.69|\n",
      "|  Kuukausi|           6|       202006| 2020|       91|  Helsinki|   30-34|   Nainen|Yhteensä|Työttömyysajalta|     2489|             54194|  1811885.22|\n",
      "|  Kuukausi|           8|       202008| 2020|       91|  Helsinki|   30-34|     Mies|Yhteensä|Työttömyysajalta|     2487|             54051|   1834401.0|\n",
      "|  Kuukausi|           2|       202102| 2021|       91|  Helsinki|   30-34|   Nainen|Yhteensä|        Yhteensä|     2486|             52981|  1953584.87|\n",
      "|  Kuukausi|           9|       202009| 2020|       91|  Helsinki|   35-39|   Nainen|Yhteensä|        Yhteensä|     2471|             56738|  2123662.41|\n",
      "|  Kuukausi|           9|       202109| 2021|       91|  Helsinki|   30-34|     Mies|Yhteensä|        Yhteensä|     2465|             57027|  2021053.29|\n",
      "|  Kuukausi|          12|       202012| 2020|       91|  Helsinki|   25-29|   Nainen|Yhteensä|        Yhteensä|     2464|             58148|  2063879.06|\n",
      "|  Kuukausi|           6|       202006| 2020|       91|  Helsinki|   50-54|     Mies|Yhteensä|        Yhteensä|     2463|             57408|  2001059.92|\n",
      "|  Kuukausi|           7|       202007| 2020|       91|  Helsinki|   50-54|     Mies|Yhteensä|        Yhteensä|     2456|             59441|  2095060.38|\n",
      "|  Kuukausi|           4|       202104| 2021|       91|  Helsinki|   25-29|   Nainen|Yhteensä|        Yhteensä|     2451|             54383|  1909871.19|\n",
      "|  Kuukausi|           8|       202008| 2020|       91|  Helsinki|   25-29|   Nainen|Yhteensä|Työttömyysajalta|     2441|             51186|  1669744.42|\n",
      "|  Kuukausi|           7|       202007| 2020|       91|  Helsinki|   30-34|   Nainen|Yhteensä|Työttömyysajalta|     2441|             56451|  1935354.73|\n",
      "|  Kuukausi|           5|       202105| 2021|       91|  Helsinki|   25-29|   Nainen|Yhteensä|        Yhteensä|     2438|             53196|  1869678.02|\n",
      "+----------+------------+-------------+-----+---------+----------+--------+---------+--------+----------------+---------+------------------+------------+\n",
      "only showing top 100 rows\n",
      "\n"
     ]
    }
   ],
   "source": [
    "Merge_df.filter((Merge_df[\"saaja_lkm\"] > 500) & (Merge_df[\"aikatyyppi\"] == \"Kuukausi\")).orderBy(Merge_df[\"saaja_lkm\"], ascending=False).show(100)"
   ]
  },
  {
   "cell_type": "code",
   "execution_count": 79,
   "metadata": {},
   "outputs": [],
   "source": [
    "df3 = Merge_df.drop(\"kuukausi_nro\", \"vuosi\", \"kunta_nro\")"
   ]
  },
  {
   "cell_type": "code",
   "execution_count": 80,
   "metadata": {},
   "outputs": [
    {
     "name": "stdout",
     "output_type": "stream",
     "text": [
      "+----------+-------------+-----------+--------+---------+---------------+--------------------+---------+------------------+------------+\n",
      "|aikatyyppi|vuosikuukausi| kunta_nimi|ikaryhma|sukupuoli|          etuus|      korvausperuste|saaja_lkm|korvattu_paiva_lkm|maksettu_eur|\n",
      "+----------+-------------+-----------+--------+---------+---------------+--------------------+---------+------------------+------------+\n",
      "|  Kuukausi|       201812|   Joroinen|   30-34|   Nainen|Työmarkkinatuki|Työllistymistä ed...|        4|                75|     3003.42|\n",
      "|  Kuukausi|       201812|    Joensuu|   30-34|   Nainen|Työmarkkinatuki|Työllistymistä ed...|      116|              2486|   104111.78|\n",
      "|  Kuukausi|       201812|  Janakkala|   30-34|   Nainen|Työmarkkinatuki|Työllistymistä ed...|       12|               248|    10695.26|\n",
      "|  Kuukausi|       201812|     Imatra|   30-34|   Nainen|Työmarkkinatuki|Työllistymistä ed...|       41|               830|    34623.11|\n",
      "|  Kuukausi|       201812|  Ilomantsi|   30-34|   Nainen|Työmarkkinatuki|Työllistymistä ed...|        4|                80|      3381.8|\n",
      "|  Kuukausi|       201812|   Ilmajoki|   30-34|   Nainen|Työmarkkinatuki|Työllistymistä ed...|        7|               163|     8049.66|\n",
      "|  Kuukausi|       201812|      Iitti|   30-34|   Nainen|Työmarkkinatuki|Työllistymistä ed...|        5|                92|     4050.36|\n",
      "|  Kuukausi|       201812|    Iisalmi|   30-34|   Nainen|Työmarkkinatuki|Työllistymistä ed...|       17|               385|    17070.08|\n",
      "|  Kuukausi|       201812|         Ii|   30-34|   Nainen|Työmarkkinatuki|Työllistymistä ed...|        6|               128|     5223.92|\n",
      "|  Kuukausi|       201812|    Heinola|   30-34|   Nainen|Työmarkkinatuki|Työllistymistä ed...|       18|               317|    12749.78|\n",
      "|  Kuukausi|       201812|Hämeenlinna|   30-34|   Nainen|Työmarkkinatuki|Työllistymistä ed...|       84|              1705|    74298.48|\n",
      "|  Kuukausi|       201812| Hämeenkyrö|   30-34|   Nainen|Työmarkkinatuki|Työllistymistä ed...|        9|               159|     5848.26|\n",
      "|  Kuukausi|       201812|   Hyvinkää|   30-34|   Nainen|Työmarkkinatuki|Työllistymistä ed...|       64|              1399|     61952.5|\n",
      "|  Kuukausi|       201812|  Huittinen|   30-34|   Nainen|Työmarkkinatuki|Työllistymistä ed...|        9|               182|     7361.57|\n",
      "|  Kuukausi|       201812|    Hollola|   30-34|   Nainen|Työmarkkinatuki|Työllistymistä ed...|       13|               249|    11022.62|\n",
      "|  Kuukausi|       201812|     Vantaa|   30-34|   Nainen|Työmarkkinatuki|Työllistymistä ed...|      381|              8148|   356810.45|\n",
      "|  Kuukausi|       201812|   Helsinki|   30-34|   Nainen|Työmarkkinatuki|Työllistymistä ed...|      838|             17641|   766061.06|\n",
      "|  Kuukausi|       201812|  Hausjärvi|   30-34|   Nainen|Työmarkkinatuki|Työllistymistä ed...|        9|               137|     6330.91|\n",
      "|  Kuukausi|       201812| Harjavalta|   30-34|   Nainen|Työmarkkinatuki|Työllistymistä ed...|        8|               187|      8068.4|\n",
      "|  Kuukausi|       201812|      Hanko|   30-34|   Nainen|Työmarkkinatuki|Työllistymistä ed...|        7|               147|      6166.4|\n",
      "+----------+-------------+-----------+--------+---------+---------------+--------------------+---------+------------------+------------+\n",
      "only showing top 20 rows\n",
      "\n"
     ]
    }
   ],
   "source": [
    "df3.show()"
   ]
  },
  {
   "cell_type": "code",
   "execution_count": 81,
   "metadata": {},
   "outputs": [
    {
     "name": "stdout",
     "output_type": "stream",
     "text": [
      "+----------+-------------+----------------+--------+---------+---------------+--------------------+---------+------------------+------------+\n",
      "|aikatyyppi|vuosikuukausi|      kunta_nimi|ikaryhma|sukupuoli|          etuus|      korvausperuste|saaja_lkm|korvattu_paiva_lkm|maksettu_eur|\n",
      "+----------+-------------+----------------+--------+---------+---------------+--------------------+---------+------------------+------------+\n",
      "|  Kuukausi|       201812|        Joroinen|   30-34|   Nainen|Työmarkkinatuki|Työllistymistä ed...|        4|                75|     3003.42|\n",
      "|  Kuukausi|       201812|         Joensuu|   30-34|   Nainen|Työmarkkinatuki|Työllistymistä ed...|      116|              2486|   104111.78|\n",
      "|  Kuukausi|       201812|       Janakkala|   30-34|   Nainen|Työmarkkinatuki|Työllistymistä ed...|       12|               248|    10695.26|\n",
      "|  Kuukausi|       201812|          Imatra|   30-34|   Nainen|Työmarkkinatuki|Työllistymistä ed...|       41|               830|    34623.11|\n",
      "|  Kuukausi|       201812|       Ilomantsi|   30-34|   Nainen|Työmarkkinatuki|Työllistymistä ed...|        4|                80|      3381.8|\n",
      "|  Kuukausi|       201812|        Ilmajoki|   30-34|   Nainen|Työmarkkinatuki|Työllistymistä ed...|        7|               163|     8049.66|\n",
      "|  Kuukausi|       201812|           Iitti|   30-34|   Nainen|Työmarkkinatuki|Työllistymistä ed...|        5|                92|     4050.36|\n",
      "|  Kuukausi|       201812|         Iisalmi|   30-34|   Nainen|Työmarkkinatuki|Työllistymistä ed...|       17|               385|    17070.08|\n",
      "|  Kuukausi|       201812|              Ii|   30-34|   Nainen|Työmarkkinatuki|Työllistymistä ed...|        6|               128|     5223.92|\n",
      "|  Kuukausi|       201812|         Heinola|   30-34|   Nainen|Työmarkkinatuki|Työllistymistä ed...|       18|               317|    12749.78|\n",
      "|  Kuukausi|       201812|     Hämeenlinna|   30-34|   Nainen|Työmarkkinatuki|Työllistymistä ed...|       84|              1705|    74298.48|\n",
      "|  Kuukausi|       201812|      Hämeenkyrö|   30-34|   Nainen|Työmarkkinatuki|Työllistymistä ed...|        9|               159|     5848.26|\n",
      "|  Kuukausi|       201812|        Hyvinkää|   30-34|   Nainen|Työmarkkinatuki|Työllistymistä ed...|       64|              1399|     61952.5|\n",
      "|  Kuukausi|       201812|       Huittinen|   30-34|   Nainen|Työmarkkinatuki|Työllistymistä ed...|        9|               182|     7361.57|\n",
      "|  Kuukausi|       201812|         Hollola|   30-34|   Nainen|Työmarkkinatuki|Työllistymistä ed...|       13|               249|    11022.62|\n",
      "|  Kuukausi|       201812|          Vantaa|   30-34|   Nainen|Työmarkkinatuki|Työllistymistä ed...|      381|              8148|   356810.45|\n",
      "|  Kuukausi|       201812|        Helsinki|   30-34|   Nainen|Työmarkkinatuki|Työllistymistä ed...|      838|             17641|   766061.06|\n",
      "|  Kuukausi|       201812|       Hausjärvi|   30-34|   Nainen|Työmarkkinatuki|Työllistymistä ed...|        9|               137|     6330.91|\n",
      "|  Kuukausi|       201812|      Harjavalta|   30-34|   Nainen|Työmarkkinatuki|Työllistymistä ed...|        8|               187|      8068.4|\n",
      "|  Kuukausi|       201812|           Hanko|   30-34|   Nainen|Työmarkkinatuki|Työllistymistä ed...|        7|               147|      6166.4|\n",
      "|  Kuukausi|       201812|      Hankasalmi|   30-34|   Nainen|Työmarkkinatuki|Työllistymistä ed...|        4|                90|      3873.6|\n",
      "|  Kuukausi|       201812|          Hamina|   30-34|   Nainen|Työmarkkinatuki|Työllistymistä ed...|       12|               226|     9925.12|\n",
      "|  Kuukausi|       201812|       Haapavesi|   30-34|   Nainen|Työmarkkinatuki|Työllistymistä ed...|        9|               200|      8028.0|\n",
      "|  Kuukausi|       201812|      Haapajärvi|   30-34|   Nainen|Työmarkkinatuki|Työllistymistä ed...|        6|               123|      4817.5|\n",
      "|  Kuukausi|       201812|          Forssa|   30-34|   Nainen|Työmarkkinatuki|Työllistymistä ed...|       21|               429|     19135.7|\n",
      "|  Kuukausi|       201812|            Eura|   30-34|   Nainen|Työmarkkinatuki|Työllistymistä ed...|        7|               160|     6613.34|\n",
      "|  Kuukausi|       201812|           Espoo|   30-34|   Nainen|Työmarkkinatuki|Työllistymistä ed...|      374|              7982|   352212.11|\n",
      "|  Kuukausi|       201812|            Akaa|   30-34|   Nainen|Työmarkkinatuki|Työllistymistä ed...|       21|               383|    15763.58|\n",
      "|  Kuukausi|       201812|          Askola|   30-34|   Nainen|Työmarkkinatuki|Työllistymistä ed...|        4|                73|     2783.84|\n",
      "|  Kuukausi|       201812|          Alavus|   30-34|   Nainen|Työmarkkinatuki|Työllistymistä ed...|       13|               238|    10217.06|\n",
      "|  Kuukausi|       201812|       Äänekoski|   30-34|     Mies|Työmarkkinatuki|Työllistymistä ed...|       17|               325|     13071.0|\n",
      "|  Kuukausi|       201812|          Ähtäri|   30-34|     Mies|Työmarkkinatuki|Työllistymistä ed...|        4|                78|     3535.56|\n",
      "|  Kuukausi|       201812|        Ylöjärvi|   30-34|     Mies|Työmarkkinatuki|Työllistymistä ed...|       17|               325|     12777.9|\n",
      "|  Kuukausi|       201812|       Ylivieska|   30-34|     Mies|Työmarkkinatuki|Työllistymistä ed...|       12|               216|     8709.19|\n",
      "|  Kuukausi|       201812|           Vihti|   30-34|     Mies|Työmarkkinatuki|Työllistymistä ed...|       19|               378|     16895.4|\n",
      "|  Kuukausi|       201812|         Varkaus|   30-34|     Mies|Työmarkkinatuki|Työllistymistä ed...|       20|               373|    14565.78|\n",
      "|  Kuukausi|       201812|     Valkeakoski|   30-34|     Mies|Työmarkkinatuki|Työllistymistä ed...|       27|               565|    22873.23|\n",
      "|  Kuukausi|       201812|           Vaasa|   30-34|     Mies|Työmarkkinatuki|Työllistymistä ed...|       98|              2015|    83625.73|\n",
      "|  Kuukausi|       201812|    Uusikaupunki|   30-34|     Mies|Työmarkkinatuki|Työllistymistä ed...|        9|               146|     6336.21|\n",
      "|  Kuukausi|       201812|   Uusikaarlepyy|   30-34|     Mies|Työmarkkinatuki|Työllistymistä ed...|        5|                95|     4297.48|\n",
      "|  Kuukausi|       201812|          Urjala|   30-34|     Mies|Työmarkkinatuki|Työllistymistä ed...|        6|               140|     5542.12|\n",
      "|  Kuukausi|       201812|          Ulvila|   30-34|     Mies|Työmarkkinatuki|Työllistymistä ed...|        8|               202|     8508.51|\n",
      "|  Kuukausi|       201812|         Tuusula|   30-34|     Mies|Työmarkkinatuki|Työllistymistä ed...|        5|                84|     3572.44|\n",
      "|  Kuukausi|       201812|           Turku|   30-34|     Mies|Työmarkkinatuki|Työllistymistä ed...|      235|              4918|   211307.24|\n",
      "|  Kuukausi|       201812|          Tornio|   30-34|     Mies|Työmarkkinatuki|Työllistymistä ed...|       22|               431|    18545.35|\n",
      "|  Kuukausi|       201812|         Tampere|   30-34|     Mies|Työmarkkinatuki|Työllistymistä ed...|      460|              9042|   371285.71|\n",
      "|  Kuukausi|       201812|         Tammela|   30-34|     Mies|Työmarkkinatuki|Työllistymistä ed...|        5|                72|     3112.61|\n",
      "|  Kuukausi|       201812|       Sastamala|   30-34|     Mies|Työmarkkinatuki|Työllistymistä ed...|       24|               446|    16301.95|\n",
      "|  Kuukausi|       201812|     Suomussalmi|   30-34|     Mies|Työmarkkinatuki|Työllistymistä ed...|        6|               118|     5442.68|\n",
      "|  Kuukausi|       201812|       Sodankylä|   30-34|     Mies|Työmarkkinatuki|Työllistymistä ed...|        6|                77|     3179.53|\n",
      "|  Kuukausi|       201812|           Sipoo|   30-34|     Mies|Työmarkkinatuki|Työllistymistä ed...|        6|               128|      4290.8|\n",
      "|  Kuukausi|       201812|     Siilinjärvi|   30-34|     Mies|Työmarkkinatuki|Työllistymistä ed...|        8|               108|     5081.22|\n",
      "|  Kuukausi|       201812|       Seinäjoki|   30-34|     Mies|Työmarkkinatuki|Työllistymistä ed...|       53|              1015|     39535.4|\n",
      "|  Kuukausi|       201812|      Savonlinna|   30-34|     Mies|Työmarkkinatuki|Työllistymistä ed...|       32|               650|    26406.72|\n",
      "|  Kuukausi|       201812|            Salo|   30-34|     Mies|Työmarkkinatuki|Työllistymistä ed...|       56|              1091|    43050.37|\n",
      "|  Kuukausi|       201812|      Saarijärvi|   30-34|     Mies|Työmarkkinatuki|Työllistymistä ed...|        5|                85|      3972.9|\n",
      "|  Kuukausi|       201812|       Raasepori|   30-34|     Mies|Työmarkkinatuki|Työllistymistä ed...|       19|               426|    17563.96|\n",
      "|  Kuukausi|       201812|       Rovaniemi|   30-34|     Mies|Työmarkkinatuki|Työllistymistä ed...|       51|              1014|    39437.02|\n",
      "|  Kuukausi|       201812|       Riihimäki|   30-34|     Mies|Työmarkkinatuki|Työllistymistä ed...|       41|               801|     32607.4|\n",
      "|  Kuukausi|       201812|           Rauma|   30-34|     Mies|Työmarkkinatuki|Työllistymistä ed...|       18|               323|    13643.45|\n",
      "|  Kuukausi|       201812|          Raisio|   30-34|     Mies|Työmarkkinatuki|Työllistymistä ed...|       24|               525|    21990.02|\n",
      "|  Kuukausi|       201812|           Raahe|   30-34|     Mies|Työmarkkinatuki|Työllistymistä ed...|       24|               532|    22122.18|\n",
      "|  Kuukausi|       201812|          Porvoo|   30-34|     Mies|Työmarkkinatuki|Työllistymistä ed...|       31|               581|    23862.82|\n",
      "|  Kuukausi|       201812|          Pöytyä|   30-34|     Mies|Työmarkkinatuki|Työllistymistä ed...|        4|                65|     2674.45|\n",
      "|  Kuukausi|       201812|      Pudasjärvi|   30-34|     Mies|Työmarkkinatuki|Työllistymistä ed...|        8|               166|     7142.53|\n",
      "|  Kuukausi|       201812|            Pori|   30-34|     Mies|Työmarkkinatuki|Työllistymistä ed...|       87|              1754|    74634.09|\n",
      "|  Kuukausi|       201812|        Pirkkala|   30-34|     Mies|Työmarkkinatuki|Työllistymistä ed...|       19|               369|    15888.19|\n",
      "|  Kuukausi|       201812|Pedersören kunta|   30-34|     Mies|Työmarkkinatuki|Työllistymistä ed...|        5|               133|      5866.8|\n",
      "|  Kuukausi|       201812|     Pietarsaari|   30-34|     Mies|Työmarkkinatuki|Työllistymistä ed...|       24|               476|    20124.88|\n",
      "|  Kuukausi|       201812|      Pieksämäki|   30-34|     Mies|Työmarkkinatuki|Työllistymistä ed...|       15|               315|    13713.96|\n",
      "|  Kuukausi|       201812|         Parkano|   30-34|     Mies|Työmarkkinatuki|Työllistymistä ed...|        5|                99|      4170.5|\n",
      "|  Kuukausi|       201812|          Paimio|   30-34|     Mies|Työmarkkinatuki|Työllistymistä ed...|        5|                80|     3111.68|\n",
      "|  Kuukausi|       201812|            Oulu|   30-34|     Mies|Työmarkkinatuki|Työllistymistä ed...|      240|              4922|   200520.94|\n",
      "|  Kuukausi|       201812|        Oulainen|   30-34|     Mies|Työmarkkinatuki|Työllistymistä ed...|        4|                78|     3140.91|\n",
      "|  Kuukausi|       201812|         Orivesi|   30-34|     Mies|Työmarkkinatuki|Työllistymistä ed...|        8|               150|     5945.88|\n",
      "|  Kuukausi|       201812|      Orimattila|   30-34|     Mies|Työmarkkinatuki|Työllistymistä ed...|        9|               156|      6065.8|\n",
      "|  Kuukausi|       201812|      Nurmijärvi|   30-34|     Mies|Työmarkkinatuki|Työllistymistä ed...|       14|               229|     9733.26|\n",
      "|  Kuukausi|       201812|          Nurmes|   30-34|     Mies|Työmarkkinatuki|Työllistymistä ed...|        7|                98|      4193.9|\n",
      "|  Kuukausi|       201812|           Nokia|   30-34|     Mies|Työmarkkinatuki|Työllistymistä ed...|       41|               822|    33232.19|\n",
      "|  Kuukausi|       201812|          Nivala|   30-34|     Mies|Työmarkkinatuki|Työllistymistä ed...|        4|                67|      2746.4|\n",
      "+----------+-------------+----------------+--------+---------+---------------+--------------------+---------+------------------+------------+\n",
      "only showing top 80 rows\n",
      "\n"
     ]
    }
   ],
   "source": [
    "df3.show(80)"
   ]
  },
  {
   "cell_type": "code",
   "execution_count": 82,
   "metadata": {},
   "outputs": [],
   "source": [
    "import pyspark.sql.functions as func"
   ]
  },
  {
   "cell_type": "code",
   "execution_count": 83,
   "metadata": {},
   "outputs": [],
   "source": [
    "Merged_avg_maksu_df = df3.withColumn(\"avg_maksettu\", func.round(df3[\"maksettu_eur\"] / df3[\"saaja_lkm\"], 2))"
   ]
  },
  {
   "cell_type": "code",
   "execution_count": 84,
   "metadata": {},
   "outputs": [
    {
     "name": "stdout",
     "output_type": "stream",
     "text": [
      "+------------+-------------+----------+-------------+----------+--------------------+-------------------+---------+------------------+------------+------------+\n",
      "|  aikatyyppi|vuosikuukausi|kunta_nimi|     ikaryhma| sukupuoli|               etuus|     korvausperuste|saaja_lkm|korvattu_paiva_lkm|maksettu_eur|avg_maksettu|\n",
      "+------------+-------------+----------+-------------+----------+--------------------+-------------------+---------+------------------+------------+------------+\n",
      "|    Kuukausi|       202112|    Forssa|Tieto puuttuu|Tuntematon|      Peruspäiväraha|-Tuntematon palvelu|        1|                 0|    16037.11|    16037.11|\n",
      "|       Vuosi|       202112|    Forssa|Tieto puuttuu|Tuntematon|      Peruspäiväraha|-Tuntematon palvelu|        1|                 0|    15413.41|    15413.41|\n",
      "|Vuosikertymä|       202112|    Forssa|Tieto puuttuu|Tuntematon|      Peruspäiväraha|-Tuntematon palvelu|        1|                 0|    15413.41|    15413.41|\n",
      "|Vuosikertymä|       201811| Haapavesi|        45-49|      Mies|      Peruspäiväraha|   Työttömyysajalta|        4|              1680|    58329.17|    14582.29|\n",
      "|Vuosikertymä|       201811| Haapavesi|        45-49|      Mies|      Peruspäiväraha|           Yhteensä|        4|              1680|    58329.17|    14582.29|\n",
      "|Vuosikertymä|       201810| Haapavesi|        45-49|      Mies|      Peruspäiväraha|   Työttömyysajalta|        4|              1641|    57149.67|    14287.42|\n",
      "|Vuosikertymä|       201810| Haapavesi|        45-49|      Mies|      Peruspäiväraha|           Yhteensä|        4|              1641|    57149.67|    14287.42|\n",
      "|Vuosikertymä|       201809| Haapavesi|        45-49|      Mies|      Peruspäiväraha|   Työttömyysajalta|        4|              1607|    56065.91|    14016.48|\n",
      "|Vuosikertymä|       201809| Haapavesi|        45-49|      Mies|      Peruspäiväraha|           Yhteensä|        4|              1607|    56065.91|    14016.48|\n",
      "|       Vuosi|       202012|   Isojoki|Tieto puuttuu|Tuntematon|      Peruspäiväraha|  -Työvoimakoulutus|        1|               264|    13733.32|    13733.32|\n",
      "|Vuosikertymä|       202012|   Isojoki|Tieto puuttuu|Tuntematon|      Peruspäiväraha|  -Työvoimakoulutus|        1|               264|    13733.32|    13733.32|\n",
      "|Vuosikertymä|       201808| Haapavesi|        45-49|      Mies|      Peruspäiväraha|   Työttömyysajalta|        4|              1540|    53673.06|    13418.27|\n",
      "|Vuosikertymä|       201808| Haapavesi|        45-49|      Mies|      Peruspäiväraha|           Yhteensä|        4|              1540|    53673.06|    13418.27|\n",
      "|Vuosikertymä|       201807| Haapavesi|        45-49|      Mies|      Peruspäiväraha|           Yhteensä|        4|              1500|    52365.26|    13091.32|\n",
      "|Vuosikertymä|       201807| Haapavesi|        45-49|      Mies|      Peruspäiväraha|   Työttömyysajalta|        4|              1500|    52365.26|    13091.32|\n",
      "|Vuosikertymä|       201912| Ylitornio|Tieto puuttuu|Tuntematon|     Työmarkkinatuki|           Yhteensä|        2|               536|    25905.08|    12952.54|\n",
      "|       Vuosi|       201912| Ylitornio|Tieto puuttuu|Tuntematon|            Yhteensä|           Yhteensä|        2|               536|    25905.08|    12952.54|\n",
      "|Vuosikertymä|       201912| Ylitornio|Tieto puuttuu|Tuntematon|Työmarkkinatukiet...|           Yhteensä|        2|               536|    25905.08|    12952.54|\n",
      "|Vuosikertymä|       201912| Ylitornio|Tieto puuttuu|Tuntematon|            Yhteensä|           Yhteensä|        2|               536|    25905.08|    12952.54|\n",
      "|       Vuosi|       201912| Ylitornio|Tieto puuttuu|Tuntematon|Työmarkkinatukiet...|           Yhteensä|        2|               536|    25905.08|    12952.54|\n",
      "+------------+-------------+----------+-------------+----------+--------------------+-------------------+---------+------------------+------------+------------+\n",
      "only showing top 20 rows\n",
      "\n"
     ]
    }
   ],
   "source": [
    "Merged_avg_maksu_df.orderBy(Merged_avg_maksu_df[\"avg_maksettu\"], ascending=False).show()"
   ]
  },
  {
   "cell_type": "code",
   "execution_count": 85,
   "metadata": {},
   "outputs": [],
   "source": [
    "Merged_avg_maksu_df = Merged_avg_maksu_df.where(Merged_avg_maksu_df[\"korvattu_paiva_lkm\"] > 0)"
   ]
  },
  {
   "cell_type": "code",
   "execution_count": 86,
   "metadata": {},
   "outputs": [
    {
     "name": "stdout",
     "output_type": "stream",
     "text": [
      "+------------+-------------+----------+-------------+----------+--------------------+--------------------+---------+------------------+------------+------------+\n",
      "|  aikatyyppi|vuosikuukausi|kunta_nimi|     ikaryhma| sukupuoli|               etuus|      korvausperuste|saaja_lkm|korvattu_paiva_lkm|maksettu_eur|avg_maksettu|\n",
      "+------------+-------------+----------+-------------+----------+--------------------+--------------------+---------+------------------+------------+------------+\n",
      "|    Kuukausi|       202206|   Joensuu|Tieto puuttuu|Tuntematon|     Työmarkkinatuki|            Yhteensä|        1|                20|   -21916.74|   -21916.74|\n",
      "|    Kuukausi|       202206|   Joensuu|Tieto puuttuu|Tuntematon|            Yhteensä|            Yhteensä|        1|                20|   -21916.74|   -21916.74|\n",
      "|    Kuukausi|       202206|   Joensuu|Tieto puuttuu|Tuntematon|Työmarkkinatukiet...|            Yhteensä|        1|                20|   -21916.74|   -21916.74|\n",
      "|    Kuukausi|       202206|   Joensuu|Tieto puuttuu|Tuntematon|            Yhteensä|    Työttömyysajalta|        1|                20|   -18984.24|   -18984.24|\n",
      "|    Kuukausi|       202206|   Joensuu|Tieto puuttuu|Tuntematon|Työmarkkinatukiet...|    Työttömyysajalta|        1|                20|   -18984.24|   -18984.24|\n",
      "|    Kuukausi|       202206|   Joensuu|Tieto puuttuu|Tuntematon|     Työmarkkinatuki|    Työttömyysajalta|        1|                20|   -18984.24|   -18984.24|\n",
      "|    Kuukausi|       201803|    Nurmes|Tieto puuttuu|Tuntematon|Työmarkkinatukiet...|    Työttömyysajalta|        1|                20|   -13621.02|   -13621.02|\n",
      "|    Kuukausi|       201803|    Nurmes|Tieto puuttuu|Tuntematon|            Yhteensä|    Työttömyysajalta|        1|                20|   -13621.02|   -13621.02|\n",
      "|    Kuukausi|       201803|    Nurmes|Tieto puuttuu|Tuntematon|     Työmarkkinatuki|    Työttömyysajalta|        1|                20|   -13621.02|   -13621.02|\n",
      "|    Kuukausi|       202211|     Turku|Tieto puuttuu|Tuntematon|            Yhteensä|            Yhteensä|        1|                20|   -10970.91|   -10970.91|\n",
      "|Vuosikertymä|       201809|   Pukkila|Tieto puuttuu|Tuntematon|      Peruspäiväraha|Työllistymistä ed...|        1|                15|    -9156.15|    -9156.15|\n",
      "|    Kuukausi|       201903|     Turku|Tieto puuttuu|Tuntematon|            Yhteensä|            Yhteensä|        1|                18|    -9050.72|    -9050.72|\n",
      "|Vuosikertymä|       202302|  Parainen|Tieto puuttuu|Tuntematon|            Yhteensä| -Tuntematon palvelu|        1|                 1|    -9001.65|    -9001.65|\n",
      "|Vuosikertymä|       202302|  Parainen|Tieto puuttuu|Tuntematon|      Peruspäiväraha| -Tuntematon palvelu|        1|                 1|    -9001.65|    -9001.65|\n",
      "|    Kuukausi|       202203|Tuntematon|        65-67|      Mies|            Yhteensä|            Yhteensä|        1|                10|    -8980.57|    -8980.57|\n",
      "|    Kuukausi|       202203|Tuntematon|        65-67|      Mies|            Yhteensä|    Työttömyysajalta|        1|                10|    -8816.76|    -8816.76|\n",
      "|    Kuukausi|       201903|     Turku|Tieto puuttuu|Tuntematon|     Työmarkkinatuki|            Yhteensä|        1|                18|    -8706.25|    -8706.25|\n",
      "|    Kuukausi|       201903|     Turku|Tieto puuttuu|Tuntematon|Työmarkkinatukiet...|            Yhteensä|        1|                18|    -8706.25|    -8706.25|\n",
      "|    Kuukausi|       202110| Jyväskylä|Tieto puuttuu|Tuntematon|      Peruspäiväraha| -Tuntematon palvelu|        1|                20|    -8618.28|    -8618.28|\n",
      "|Vuosikertymä|       201810|   Pukkila|Tieto puuttuu|Tuntematon|      Peruspäiväraha|Työllistymistä ed...|        1|                35|    -8259.15|    -8259.15|\n",
      "+------------+-------------+----------+-------------+----------+--------------------+--------------------+---------+------------------+------------+------------+\n",
      "only showing top 20 rows\n",
      "\n"
     ]
    }
   ],
   "source": [
    "Merged_avg_maksu_df.orderBy(Merged_avg_maksu_df[\"avg_maksettu\"], ascending=True).show()"
   ]
  },
  {
   "cell_type": "code",
   "execution_count": 87,
   "metadata": {},
   "outputs": [],
   "source": [
    "Palautukset_df = Merged_avg_maksu_df.where(Merged_avg_maksu_df[\"maksettu_eur\"] < 0)"
   ]
  },
  {
   "cell_type": "code",
   "execution_count": 88,
   "metadata": {},
   "outputs": [],
   "source": [
    "Maksut_df = Merged_avg_maksu_df.where(Merged_avg_maksu_df[\"maksettu_eur\"] > 0)"
   ]
  },
  {
   "cell_type": "code",
   "execution_count": 89,
   "metadata": {},
   "outputs": [],
   "source": [
    "all_df = spark.read.csv(\"all_years.csv\", header=True, inferSchema=True)"
   ]
  },
  {
   "cell_type": "code",
   "execution_count": 90,
   "metadata": {},
   "outputs": [],
   "source": [
    "all_df = all_df.drop(\"vuosikuukausi\", \"kunta_nro\")"
   ]
  },
  {
   "cell_type": "code",
   "execution_count": 91,
   "metadata": {},
   "outputs": [
    {
     "name": "stdout",
     "output_type": "stream",
     "text": [
      "+----------+------------+-----+-----------+--------+---------+---------------+--------------+---------+------------------+------------+\n",
      "|aikatyyppi|kuukausi_nro|vuosi| kunta_nimi|ikaryhma|sukupuoli|          etuus|korvausperuste|saaja_lkm|korvattu_paiva_lkm|maksettu_eur|\n",
      "+----------+------------+-----+-----------+--------+---------+---------------+--------------+---------+------------------+------------+\n",
      "|     Vuosi|          12| 2003|Kirkkonummi|   35-39|   Nainen|Työmarkkinatuki|      Yhteensä|       45|              8277|   215964.47|\n",
      "|     Vuosi|          12| 2003|    Kinnula|   35-39|   Nainen|Työmarkkinatuki|      Yhteensä|        5|              1137|     30616.2|\n",
      "|     Vuosi|          12| 2003|     Kihniö|   35-39|   Nainen|Työmarkkinatuki|      Yhteensä|        6|               812|    20480.17|\n",
      "|     Vuosi|          12| 2003|     Keuruu|   35-39|   Nainen|Työmarkkinatuki|      Yhteensä|       40|              5283|   138327.79|\n",
      "|     Vuosi|          12| 2003|     Kerava|   35-39|   Nainen|Työmarkkinatuki|      Yhteensä|       44|              6356|   183255.29|\n",
      "|     Vuosi|          12| 2003|    Kempele|   35-39|   Nainen|Työmarkkinatuki|      Yhteensä|       32|              5124|   131564.46|\n",
      "|     Vuosi|          12| 2003|   Keminmaa|   35-39|   Nainen|Työmarkkinatuki|      Yhteensä|       17|              1907|    51734.28|\n",
      "|     Vuosi|          12| 2003|       Kemi|   35-39|   Nainen|Työmarkkinatuki|      Yhteensä|       92|             12982|    366544.4|\n",
      "|     Vuosi|          12| 2003|    Keitele|   35-39|   Nainen|Työmarkkinatuki|      Yhteensä|        7|              1161|    30863.72|\n",
      "|     Vuosi|          12| 2003|  Kaustinen|   35-39|   Nainen|Työmarkkinatuki|      Yhteensä|        9|              1350|    28879.42|\n",
      "|     Vuosi|          12| 2003|    Kauhava|   35-39|   Nainen|Työmarkkinatuki|      Yhteensä|       14|              1609|    39483.67|\n",
      "|     Vuosi|          12| 2003|  Kauhajoki|   35-39|   Nainen|Työmarkkinatuki|      Yhteensä|       73|             10251|   276866.49|\n",
      "|     Vuosi|          12| 2003|     Karvia|   35-39|   Nainen|Työmarkkinatuki|      Yhteensä|       10|              1294|    37934.96|\n",
      "|     Vuosi|          12| 2003|   Karstula|   35-39|   Nainen|Työmarkkinatuki|      Yhteensä|       23|              3050|     81741.9|\n",
      "|     Vuosi|          12| 2003|   Karkkila|   35-39|   Nainen|Työmarkkinatuki|      Yhteensä|       11|              1316|    40613.76|\n",
      "|     Vuosi|          12| 2003|   Karijoki|   35-39|   Nainen|Työmarkkinatuki|      Yhteensä|        4|               480|    12181.31|\n",
      "|     Vuosi|          12| 2003|     Kannus|   35-39|   Nainen|Työmarkkinatuki|      Yhteensä|        6|               658|     9669.71|\n",
      "|     Vuosi|          12| 2003|Kannonkoski|   35-39|   Nainen|Työmarkkinatuki|      Yhteensä|        7|               777|    23197.77|\n",
      "|     Vuosi|          12| 2003| Kankaanpää|   35-39|   Nainen|Työmarkkinatuki|      Yhteensä|       36|              5663|   151581.45|\n",
      "|     Vuosi|          12| 2003|Kangasniemi|   35-39|   Nainen|Työmarkkinatuki|      Yhteensä|       18|              2132|    62664.21|\n",
      "+----------+------------+-----+-----------+--------+---------+---------------+--------------+---------+------------------+------------+\n",
      "only showing top 20 rows\n",
      "\n"
     ]
    }
   ],
   "source": [
    "all_df.show()"
   ]
  },
  {
   "cell_type": "code",
   "execution_count": 92,
   "metadata": {},
   "outputs": [
    {
     "name": "stdout",
     "output_type": "stream",
     "text": [
      "+------------+\n",
      "|  aikatyyppi|\n",
      "+------------+\n",
      "|       Vuosi|\n",
      "|Vuosikertymä|\n",
      "|    Kuukausi|\n",
      "+------------+\n",
      "\n"
     ]
    }
   ],
   "source": [
    "all_df.select(\"aikatyyppi\").distinct().show()"
   ]
  },
  {
   "cell_type": "code",
   "execution_count": 93,
   "metadata": {},
   "outputs": [],
   "source": [
    "age_df = all_df.where(all_df[\"ikaryhma\"] != \"Tieto puuttuu\")"
   ]
  },
  {
   "cell_type": "code",
   "execution_count": 94,
   "metadata": {},
   "outputs": [],
   "source": [
    "age_df = age_df.where(age_df[\"aikatyyppi\"] == \"Vuosi\")\n",
    "age_df = age_df.where(age_df[\"saaja_lkm\"] > 0)\n",
    "age_df = age_df.where(age_df[\"maksettu_eur\"] > 0)\n",
    "age_df = age_df.where(age_df[\"korvausperuste\"] == \"Työttömyysajalta\")"
   ]
  },
  {
   "cell_type": "code",
   "execution_count": 101,
   "metadata": {},
   "outputs": [],
   "source": [
    "age_df_maksut = age_df.withColumn(\"avg_maksettu\", func.round((age_df[\"maksettu_eur\"] / age_df[\"saaja_lkm\"]), 2))"
   ]
  },
  {
   "cell_type": "code",
   "execution_count": 102,
   "metadata": {},
   "outputs": [
    {
     "name": "stdout",
     "output_type": "stream",
     "text": [
      "+----------+------------+-----+----------+--------+---------+--------------------+----------------+---------+------------------+------------+------------+\n",
      "|aikatyyppi|kuukausi_nro|vuosi|kunta_nimi|ikaryhma|sukupuoli|               etuus|  korvausperuste|saaja_lkm|korvattu_paiva_lkm|maksettu_eur|avg_maksettu|\n",
      "+----------+------------+-----+----------+--------+---------+--------------------+----------------+---------+------------------+------------+------------+\n",
      "|     Vuosi|          12| 2021| Pornainen|   35-39|     Mies|Työmarkkinatukiet...|Työttömyysajalta|        5|              1768|    64124.09|    12824.82|\n",
      "|     Vuosi|          12| 2021| Pornainen|   35-39|     Mies|     Työmarkkinatuki|Työttömyysajalta|        5|              1768|    64124.09|    12824.82|\n",
      "|     Vuosi|          12| 2018| Haapavesi|   45-49|     Mies|      Peruspäiväraha|Työttömyysajalta|        5|              1775|    61273.67|    12254.73|\n",
      "|     Vuosi|          12| 2015|   Utsjoki|   50-54|     Mies|            Yhteensä|Työttömyysajalta|        4|              1332|    46938.76|    11734.69|\n",
      "|     Vuosi|          12| 2021| Pornainen|   35-39|     Mies|            Yhteensä|Työttömyysajalta|        7|              2218|    79492.41|    11356.06|\n",
      "|     Vuosi|          12| 2015|   Utsjoki|   50-54|     Mies|     Työmarkkinatuki|Työttömyysajalta|        4|              1277|    45135.46|    11283.87|\n",
      "|     Vuosi|          12| 2015|   Utsjoki|   50-54|     Mies|Työmarkkinatukiet...|Työttömyysajalta|        4|              1277|    45135.46|    11283.87|\n",
      "|     Vuosi|          12| 2021| Pornainen|   30-34|     Mies|            Yhteensä|Työttömyysajalta|        5|              1369|    52464.15|    10492.83|\n",
      "|     Vuosi|          12| 2016|Rautalampi|   50-54|     Mies|            Yhteensä|Työttömyysajalta|        7|              1996|    71896.24|    10270.89|\n",
      "|     Vuosi|          12| 2019|Mäntyharju|   60-64|   Nainen|            Yhteensä|Työttömyysajalta|        4|              1374|    40622.51|    10155.63|\n",
      "|     Vuosi|          12| 2013|    Oripää|   45-49|     Mies|Työmarkkinatukiet...|Työttömyysajalta|        4|              1003|     39749.6|      9937.4|\n",
      "|     Vuosi|          12| 2013|    Oripää|   45-49|     Mies|     Työmarkkinatuki|Työttömyysajalta|        4|              1003|     39749.6|      9937.4|\n",
      "|     Vuosi|          12| 2014| Pielavesi|   40-44|   Nainen|Työmarkkinatukiet...|Työttömyysajalta|        4|              1023|    39371.53|     9842.88|\n",
      "|     Vuosi|          12| 2014| Pielavesi|   40-44|   Nainen|     Työmarkkinatuki|Työttömyysajalta|        4|              1023|    39371.53|     9842.88|\n",
      "|     Vuosi|          12| 2015|  Myrskylä|   35-39|   Nainen|     Työmarkkinatuki|Työttömyysajalta|        4|               946|    39188.96|     9797.24|\n",
      "|     Vuosi|          12| 2015|  Myrskylä|   35-39|   Nainen|Työmarkkinatukiet...|Työttömyysajalta|        4|               946|    39188.96|     9797.24|\n",
      "|     Vuosi|          12| 2021|     Inkoo|   35-39|   Nainen|     Työmarkkinatuki|Työttömyysajalta|        5|              1292|    48769.06|     9753.81|\n",
      "|     Vuosi|          12| 2021|     Inkoo|   35-39|   Nainen|Työmarkkinatukiet...|Työttömyysajalta|        5|              1292|    48769.06|     9753.81|\n",
      "|     Vuosi|          12| 2014|        Ii|   45-49|   Nainen|      Peruspäiväraha|Työttömyysajalta|        4|              1038|    38566.66|     9641.67|\n",
      "|     Vuosi|          12| 2015|  Kuortane|   35-39|     Mies|            Yhteensä|Työttömyysajalta|        4|               910|    38331.27|     9582.82|\n",
      "+----------+------------+-----+----------+--------+---------+--------------------+----------------+---------+------------------+------------+------------+\n",
      "only showing top 20 rows\n",
      "\n"
     ]
    }
   ],
   "source": [
    "age_df_maksut.orderBy(\"avg_maksettu\", ascending=False).show()"
   ]
  },
  {
   "cell_type": "code",
   "execution_count": 105,
   "metadata": {},
   "outputs": [
    {
     "name": "stdout",
     "output_type": "stream",
     "text": [
      "+--------+------------------+\n",
      "|ikaryhma| avg(avg_maksettu)|\n",
      "+--------+------------------+\n",
      "|   17-19|1121.0500491216367|\n",
      "|   20-24|1817.7784936541918|\n",
      "|   25-29|2811.4748880765264|\n",
      "|   30-34|3418.2404766434947|\n",
      "|   35-39|   3713.8976982085|\n",
      "|   40-44|  3866.27290484296|\n",
      "|   45-49|3899.2446096062463|\n",
      "|   50-54|3860.6145794654203|\n",
      "|   55-59|4046.1849017987292|\n",
      "|   60-64| 4463.112863795116|\n",
      "|   65-67|3185.2634762054818|\n",
      "+--------+------------------+\n",
      "\n"
     ]
    }
   ],
   "source": [
    "#average values for each age group\n",
    "age_df_maksut.groupBy(\"ikaryhma\").avg(\"avg_maksettu\").orderBy(\"ikaryhma\", ascending=True).show()"
   ]
  },
  {
   "cell_type": "code",
   "execution_count": 110,
   "metadata": {},
   "outputs": [
    {
     "data": {
      "text/plain": [
       "<Axes: title={'center': 'Average payment per age group'}, xlabel='ikaryhma'>"
      ]
     },
     "execution_count": 110,
     "metadata": {},
     "output_type": "execute_result"
    },
    {
     "data": {
      "image/png": "[encoded data removed]",
      "text/plain": [
       "<Figure size 1000x500 with 1 Axes>"
      ]
     },
     "metadata": {},
     "output_type": "display_data"
    }
   ],
   "source": [
    "#plot the above values using matplotlib\n",
    "age_df_maksut.groupBy(\"ikaryhma\").avg(\"avg_maksettu\").orderBy(\"ikaryhma\", ascending=True).toPandas().plot.bar(x=\"ikaryhma\", y=\"avg(avg_maksettu)\", rot=0, figsize=(10,5), title=\"Average payment per age group\")"
   ]
  },
  {
   "cell_type": "code",
   "execution_count": null,
   "metadata": {},
   "outputs": [],
   "source": []
  }
 ],
 "metadata": {
  "kernelspec": {
   "display_name": "Python 3",
   "language": "python",
   "name": "python3"
  },
  "language_info": {
   "codemirror_mode": {
    "name": "ipython",
    "version": 3
   },
   "file_extension": ".py",
   "mimetype": "text/x-python",
   "name": "python",
   "nbconvert_exporter": "python",
   "pygments_lexer": "ipython3",
   "version": "3.10.6"
  },
  "orig_nbformat": 4
 },
 "nbformat": 4,
 "nbformat_minor": 2
}
